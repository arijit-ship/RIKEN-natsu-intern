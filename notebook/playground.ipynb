{
 "cells": [
  {
   "cell_type": "code",
   "execution_count": null,
   "id": "860fd3d0",
   "metadata": {},
   "outputs": [
    {
     "ename": "",
     "evalue": "",
     "output_type": "error",
     "traceback": [
      "\u001b[1;31mRunning cells with 'Python 3.12.3' requires the ipykernel package.\n",
      "\u001b[1;31m<a href='command:jupyter.createPythonEnvAndSelectController'>Create a Python Environment</a> with the required packages.\n",
      "\u001b[1;31mOr install 'ipykernel' using the command: '/usr/bin/python3 -m pip install ipykernel -U --user --force-reinstall'"
     ]
    }
   ],
   "source": [
    "import stim\n",
    "print(stim.__version__)"
   ]
  },
  {
   "cell_type": "code",
   "execution_count": null,
   "id": "60dcf3ec",
   "metadata": {},
   "outputs": [],
   "source": [
    "circuit = stim.Circuit()\n",
    "print(circuit)"
   ]
  },
  {
   "cell_type": "code",
   "execution_count": null,
   "id": "96a58bec",
   "metadata": {},
   "outputs": [],
   "source": [
    "type(circuit)"
   ]
  },
  {
   "cell_type": "code",
   "execution_count": null,
   "id": "6e550e44",
   "metadata": {},
   "outputs": [],
   "source": [
    "circuit.append(\"H\",[0])\n",
    "circuit.append(\"X\",[0,1,3])"
   ]
  },
  {
   "cell_type": "code",
   "execution_count": null,
   "id": "c78eb49c",
   "metadata": {},
   "outputs": [],
   "source": [
    "print(circuit)"
   ]
  },
  {
   "cell_type": "code",
   "execution_count": null,
   "id": "994621ea",
   "metadata": {},
   "outputs": [],
   "source": [
    "circuit.diagram()"
   ]
  },
  {
   "cell_type": "code",
   "execution_count": null,
   "id": "d889fb88",
   "metadata": {},
   "outputs": [],
   "source": [
    "circuit.diagram(\"timeline-svg-html\",)"
   ]
  },
  {
   "cell_type": "code",
   "execution_count": null,
   "id": "15a951a9",
   "metadata": {},
   "outputs": [],
   "source": [
    "circuit.append(\"M\",[0,1,2,3])\n",
    "circuit.diagram(\"timeline-svg\")"
   ]
  },
  {
   "cell_type": "code",
   "execution_count": null,
   "id": "41c62efe",
   "metadata": {},
   "outputs": [],
   "source": [
    "sampler = circuit.compile_sampler()\n",
    "print(sampler.sample(shots=10))"
   ]
  },
  {
   "cell_type": "code",
   "execution_count": null,
   "id": "ef94d1da",
   "metadata": {},
   "outputs": [],
   "source": [
    "circuit = 0\n",
    "circuit = stim.Circuit()"
   ]
  },
  {
   "cell_type": "code",
   "execution_count": null,
   "id": "79944a36",
   "metadata": {},
   "outputs": [],
   "source": [
    "circuit.append_operation('H', [0])\n",
    "circuit.append_operation('M', [0])\n",
    "circuit.diagram(\"timeline-svg\")"
   ]
  },
  {
   "cell_type": "code",
   "execution_count": null,
   "id": "13b887f0",
   "metadata": {},
   "outputs": [],
   "source": [
    "sampler = 0\n",
    "sampler = circuit.compile_sampler()\n",
    "print(sampler.sample(shots=10))"
   ]
  },
  {
   "cell_type": "code",
   "execution_count": null,
   "id": "bc6f898f",
   "metadata": {},
   "outputs": [],
   "source": [
    "circuit = 0"
   ]
  },
  {
   "cell_type": "code",
   "execution_count": null,
   "id": "65da3033",
   "metadata": {},
   "outputs": [],
   "source": [
    "circuit_2 = stim.Circuit.generated(\n",
    "    \"repetition_code:memory\",\n",
    "    rounds=1,\n",
    "    distance=2,\n",
    "    before_round_data_depolarization=0.04,\n",
    "    before_measure_flip_probability=0.01\n",
    "    )\n"
   ]
  },
  {
   "cell_type": "code",
   "execution_count": null,
   "id": "61e1e8be",
   "metadata": {},
   "outputs": [],
   "source": [
    "circuit_2.diagram('timeline-svg')"
   ]
  },
  {
   "cell_type": "markdown",
   "id": "e5d0705c",
   "metadata": {},
   "source": [
    "```Args\n",
    "code_task: A string identifying the type of circuit to generate. Available code tasks are: - \"repetition_code:memory\" - \"surface_code:rotated_memory_x\" - \"surface_code:rotated_memory_z\" - \"surface_code:unrotated_memory_x\" - \"surface_code:unrotated_memory_z\" - \"color_code:memory_xyz\"\n",
    "distance: The desired code distance of the generated circuit. The code distance is the minimum number of physical errors needed to cause a logical error. This parameter indirectly determines how many qubits the generated circuit uses.\n",
    "rounds: How many times the measurement qubits in the generated circuit will be measured. Indirectly determines the duration of the generated circuit.```"
   ]
  },
  {
   "cell_type": "code",
   "execution_count": null,
   "id": "a3515836",
   "metadata": {},
   "outputs": [],
   "source": [
    "circuit_3 = 0\n",
    "circuit_3 = stim.Circuit.generated(\n",
    "    \n",
    "    \"surface_code:rotated_memory_x\",\n",
    "    rounds=1,\n",
    "    distance=2,\n",
    "    \n",
    "    )\n",
    "circuit_3.diagram(\"timeline-svg\")"
   ]
  },
  {
   "cell_type": "code",
   "execution_count": null,
   "id": "b33243eb",
   "metadata": {},
   "outputs": [],
   "source": [
    "print(circuit_3)"
   ]
  },
  {
   "cell_type": "code",
   "execution_count": null,
   "id": "564f5c78",
   "metadata": {},
   "outputs": [],
   "source": [
    "circuit_3.compile_detector_sampler().sample(shots=1)"
   ]
  },
  {
   "cell_type": "code",
   "execution_count": null,
   "id": "83dcd01b",
   "metadata": {},
   "outputs": [],
   "source": [
    "# Path to your Stim circuit text file\n",
    "# file_path = \"test_circ.txt\"\n",
    "\n",
    "# circuit = 0\n",
    "# # Read the circuit text\n",
    "# with open(file_path, \"r\") as f:\n",
    "#     circuit_text = f.read()\n",
    "\n",
    "# # Create a Stim circuit from the text\n",
    "# circuit = stim.Circuit(circuit_text)\n",
    "\n",
    "# # Optional: print the circuit to check\n",
    "# print(circuit)\n",
    "# circuit.diagram(\"timeline-svg\")"
   ]
  },
  {
   "cell_type": "code",
   "execution_count": null,
   "id": "90755eb1",
   "metadata": {},
   "outputs": [],
   "source": [
    "# Deterministic circuit\n",
    "circuit = stim.Circuit(\"\"\"\n",
    "    R 0\n",
    "    R 1\n",
    "    R 2 \n",
    "    R 3\n",
    "    R 4\n",
    "    M 0\n",
    "    M 1\n",
    "    M 2\n",
    "    M 3\n",
    "    M 4\n",
    "    X 0\n",
    "    R 1\n",
    "    R 2 \n",
    "    R 3\n",
    "    R 4\n",
    "    M 0\n",
    "    M 1\n",
    "    M 2\n",
    "    M 3\n",
    "    M 4\n",
    "\"\"\")\n",
    "circuit.diagram(\"timeline-svg\")\n"
   ]
  },
  {
   "cell_type": "code",
   "execution_count": null,
   "id": "5e8aa7cd",
   "metadata": {},
   "outputs": [],
   "source": [
    "sampler = circuit.compile_sampler()\n",
    "print(sampler.sample(shots=5))"
   ]
  },
  {
   "cell_type": "code",
   "execution_count": null,
   "id": "2dc8a664",
   "metadata": {},
   "outputs": [],
   "source": [
    "logging = True\n",
    "h_qubits = set()\n",
    "mr_qubits = set()\n",
    "m_qubits = set()\n",
    "\n",
    "for inst in circuit:\n",
    "    print (inst)\n",
    "    print(\"-------\")\n",
    "    # Case 1: Normal instruction\n",
    "    if hasattr(inst, \"targets_copy\"):\n",
    "        name = inst.name\n",
    "        targets = [t.value for t in inst.targets_copy()]\n",
    "        print (name)\n",
    "\n",
    "        if name == \"H\":\n",
    "            h_qubits.update(targets)\n",
    "            if logging:\n",
    "                print(f\"• Hadamard (H) applied → qubits {targets}\")\n",
    "\n",
    "        elif name == \"MR\":\n",
    "            mr_qubits.update(targets)\n",
    "            if logging:\n",
    "                print(f\"• Measurement-Reset (MR) → qubits {targets}\")\n",
    "\n",
    "        elif name.startswith(\"M\"):  # includes M, MX, MY, MR\n",
    "            m_qubits.update(targets)\n",
    "            if logging:\n",
    "                print(f\"• Measurement ({name}) → qubits {targets}\")"
   ]
  },
  {
   "cell_type": "code",
   "execution_count": null,
   "id": "5ea55391",
   "metadata": {},
   "outputs": [],
   "source": [
    "CIRC_STR = \"\"\"QUBIT_COORDS(1, 1) 1\n",
    "QUBIT_COORDS(2, 0) 2\n",
    "QUBIT_COORDS(3, 1) 3\n",
    "QUBIT_COORDS(5, 1) 5\n",
    "QUBIT_COORDS(1, 3) 8\n",
    "QUBIT_COORDS(2, 2) 9\n",
    "QUBIT_COORDS(3, 3) 10\n",
    "QUBIT_COORDS(4, 2) 11\n",
    "QUBIT_COORDS(5, 3) 12\n",
    "QUBIT_COORDS(6, 2) 13\n",
    "QUBIT_COORDS(0, 4) 14\n",
    "QUBIT_COORDS(1, 5) 15\n",
    "QUBIT_COORDS(2, 4) 16\n",
    "QUBIT_COORDS(3, 5) 17\n",
    "QUBIT_COORDS(4, 4) 18\n",
    "QUBIT_COORDS(5, 5) 19\n",
    "QUBIT_COORDS(4, 6) 25\n",
    "R 1 3 5 8 10 12 15 17 19 2 9 11 13 14 16 18 25\n",
    "TICK\n",
    "H 2 11 16 25\n",
    "TICK\n",
    "CX 2 3 16 17 11 12 15 14 10 9 19 18\n",
    "TICK\n",
    "CX 2 1 16 15 11 10 8 14 3 9 12 18\n",
    "TICK\n",
    "CX 16 10 11 5 25 19 8 9 17 18 12 13\n",
    "TICK\n",
    "CX 16 8 11 3 25 17 1 9 10 18 5 13\n",
    "TICK\n",
    "H 2 11 16 25\n",
    "TICK\n",
    "MR 2 9 11 13 14 16 18 25\n",
    "DETECTOR(0, 4, 0) rec[-4]\n",
    "DETECTOR(2, 2, 0) rec[-7]\n",
    "DETECTOR(4, 4, 0) rec[-2]\n",
    "DETECTOR(6, 2, 0) rec[-5]\n",
    "M 1 3 5 8 10 12 15 17 19\n",
    "DETECTOR(0, 4, 1) rec[-3] rec[-6] rec[-13]\n",
    "DETECTOR(2, 2, 1) rec[-5] rec[-6] rec[-8] rec[-9] rec[-16]\n",
    "DETECTOR(4, 4, 1) rec[-1] rec[-2] rec[-4] rec[-5] rec[-11]\n",
    "DETECTOR(6, 2, 1) rec[-4] rec[-7] rec[-14]\n",
    "OBSERVABLE_INCLUDE(0) rec[-7] rec[-8] rec[-9]\n",
    "\"\"\"\n",
    "circuit = 0\n",
    "circuit= stim.Circuit(CIRC_STR)\n",
    "circuit.diagram(\"timeline-svg\")"
   ]
  },
  {
   "cell_type": "code",
   "execution_count": null,
   "id": "dfcdb163",
   "metadata": {},
   "outputs": [],
   "source": [
    "circuit.compile_detector_sampler().sample(shots=1)"
   ]
  },
  {
   "cell_type": "code",
   "execution_count": null,
   "id": "fd95dea5",
   "metadata": {},
   "outputs": [],
   "source": [
    "circuit.compile_sampler().sample(shots=1)"
   ]
  },
  {
   "cell_type": "code",
   "execution_count": null,
   "id": "bada50dc",
   "metadata": {},
   "outputs": [],
   "source": [
    "import stim\n",
    "\n",
    "c = stim.Circuit(\"\"\"\n",
    "H 0\n",
    "H 1\n",
    "M 1 0\n",
    "\"\"\")\n",
    "\n",
    "meas_qubits = []\n",
    "for instr in c:\n",
    "    if instr.name == \"M\":\n",
    "        meas_qubits.extend(instr.targets_copy())\n",
    "print(meas_qubits)  # [1, 0]\n"
   ]
  },
  {
   "cell_type": "code",
   "execution_count": null,
   "id": "de36f0d5",
   "metadata": {},
   "outputs": [],
   "source": [
    "import stim\n",
    "\n",
    "circuit = stim.Circuit(CIRC_STR)\n",
    "\n",
    "measured_qubits = []\n",
    "for instr in circuit:\n",
    "    if instr.name in [\"MR\", \"MX\"]:\n",
    "        measured_qubits.extend(instr.targets_copy())\n",
    "\n",
    "print(measured_qubits)\n",
    "# Output: [2, 7, 12, 1, 3, 6, 8]\n"
   ]
  },
  {
   "cell_type": "code",
   "execution_count": null,
   "id": "ea0040bb",
   "metadata": {},
   "outputs": [],
   "source": [
    "CIRC_STR = \"\"\"QUBIT_COORDS(1, 1) 1\n",
    "QUBIT_COORDS(2, 0) 2\n",
    "QUBIT_COORDS(3, 1) 3\n",
    "QUBIT_COORDS(5, 1) 5\n",
    "QUBIT_COORDS(1, 3) 8\n",
    "QUBIT_COORDS(2, 2) 9\n",
    "QUBIT_COORDS(3, 3) 10\n",
    "QUBIT_COORDS(4, 2) 11\n",
    "QUBIT_COORDS(5, 3) 12\n",
    "QUBIT_COORDS(6, 2) 13\n",
    "QUBIT_COORDS(0, 4) 14\n",
    "QUBIT_COORDS(1, 5) 15\n",
    "QUBIT_COORDS(2, 4) 16\n",
    "QUBIT_COORDS(3, 5) 17\n",
    "QUBIT_COORDS(4, 4) 18\n",
    "QUBIT_COORDS(5, 5) 19\n",
    "QUBIT_COORDS(4, 6) 25\n",
    "R 1 3 5 8 10 12 15 17 19 2 9 11 13 14 16 18 25\n",
    "TICK\n",
    "H 2 11 16 25\n",
    "TICK\n",
    "CX 2 3 16 17 11 12 15 14 10 9 19 18\n",
    "TICK\n",
    "CX 2 1 16 15 11 10 8 14 3 9 12 18\n",
    "TICK\n",
    "CX 16 10 11 5 25 19 8 9 17 18 12 13\n",
    "TICK\n",
    "CX 16 8 11 3 25 17 1 9 10 18 5 13\n",
    "TICK\n",
    "H 2 11 16 25\n",
    "TICK\n",
    "MR 2 9 11 13 14 16 18 25\n",
    "DETECTOR(0, 4, 0) rec[-4]\n",
    "DETECTOR(2, 2, 0) rec[-7]\n",
    "DETECTOR(4, 4, 0) rec[-2]\n",
    "DETECTOR(6, 2, 0) rec[-5]\n",
    "M 1 3 5 8 10 12 15 17 19\n",
    "DETECTOR(0, 4, 1) rec[-3] rec[-6] rec[-13]\n",
    "DETECTOR(2, 2, 1) rec[-5] rec[-6] rec[-8] rec[-9] rec[-16]\n",
    "DETECTOR(4, 4, 1) rec[-1] rec[-2] rec[-4] rec[-5] rec[-11]\n",
    "DETECTOR(6, 2, 1) rec[-4] rec[-7] rec[-14]\n",
    "OBSERVABLE_INCLUDE(0) rec[-7] rec[-8] rec[-9]\n",
    "\"\"\"\n",
    "circuit = 0\n",
    "circuit= stim.Circuit(CIRC_STR)\n",
    "circuit.diagram(\"timeline-svg\")"
   ]
  },
  {
   "cell_type": "code",
   "execution_count": null,
   "id": "a7373961",
   "metadata": {},
   "outputs": [],
   "source": [
    "import stim\n",
    "from typing import List, Dict\n",
    "\n",
    "def parse_sampler_with_H(circuit: stim.Circuit, sample: List[bool]) -> Dict[int, Dict]:\n",
    "    \"\"\"\n",
    "    Parse a stim sample and label measurements as 'ancilla_X' if an H gate was applied before\n",
    "    measurement, otherwise 'data_Z'.\n",
    "    \n",
    "    Args:\n",
    "        circuit: stim.Circuit object\n",
    "        sample: 1D list of bools from sampler.sample(shots=1)[0]\n",
    "        \n",
    "    Returns:\n",
    "        dict: column_index -> {'qubit': int, 'label': str, 'value': bool}\n",
    "    \"\"\"\n",
    "    # Track the last basis state for each qubit\n",
    "    qubit_basis = {}  # qubit -> 'Z' (default) or 'X' if H applied\n",
    "    measured_qubits = []\n",
    "    basis_list = []\n",
    "    \n",
    "    # First, build the measurement order and track basis\n",
    "    for instr in circuit:\n",
    "        if instr.name == \"H\":\n",
    "            for q in instr.targets_copy():\n",
    "                # flip basis: if Z -> X, if X -> Z\n",
    "                if qubit_basis.get(q, 'Z') == 'Z':\n",
    "                    qubit_basis[q] = 'X'\n",
    "                else:\n",
    "                    qubit_basis[q] = 'Z'\n",
    "        elif instr.name in [\"MR\", \"M\", \"MX\"]:\n",
    "            measured_qubits.extend(instr.targets_copy())\n",
    "            # For labeling\n",
    "            for q in instr.targets_copy():\n",
    "                if qubit_basis.get(q, 'Z') == 'X':\n",
    "                    basis_list.append('X')  # had H before measurement\n",
    "                else:\n",
    "                    basis_list.append('Z')  # no H\n",
    "                # reset basis after measurement if MR\n",
    "                if instr.name == \"MR\":\n",
    "                    qubit_basis[q] = 'Z'\n",
    "    \n",
    "    # Build final mapping\n",
    "    mapping = {}\n",
    "    for i, val in enumerate(sample):\n",
    "        if i < len(measured_qubits):\n",
    "            q = measured_qubits[i]\n",
    "            label = 'ancilla_X' if basis_list[i] == 'X' else 'data_Z'\n",
    "            mapping[i] = {\n",
    "                'qubit': q,\n",
    "                'label': label,\n",
    "                'value': val\n",
    "            }\n",
    "        else:\n",
    "            mapping[i] = 'internal/derived'\n",
    "    \n",
    "    return mapping\n"
   ]
  },
  {
   "cell_type": "code",
   "execution_count": null,
   "id": "3c70ff07",
   "metadata": {},
   "outputs": [],
   "source": [
    "sample = [True, False, False, False, False, False, False, True, True, False, True, True, False, True, True, True, False]\n",
    "parse_sampler_with_H(circuit, sample)"
   ]
  },
  {
   "cell_type": "code",
   "execution_count": null,
   "id": "22798480",
   "metadata": {},
   "outputs": [],
   "source": [
    "R1 = [False, False, False, False, False, True, False, False, False, False, False, True, True, False, True, True, False] # Round 1\n",
    "R2 =[False, False, False, False, False, True, False, False, False, False, False, False, False, True, False, False, False, False, False, True, True, False, True, True, False] # ROund 2\n",
    "R3 = [False, False, False, False, False, True, False, False, False, False, False, False, False, True, False, False, False, False, False, False, False, True, False, False, False, True, True, True, False, True, True, False, True] #Round 3\n",
    "R4 =[False, False, False, False, False, True, False, False, False, False, False, False, False, True, False, False, False, False, False, False, False, True, False, False, False, False, False, False, False, True, False, False, False, True, True, True, False, True, True, False, True] #Round 4\n"
   ]
  },
  {
   "cell_type": "code",
   "execution_count": null,
   "id": "29d834e6",
   "metadata": {},
   "outputs": [],
   "source": [
    "R1[:8] == R2[:8]"
   ]
  },
  {
   "cell_type": "code",
   "execution_count": null,
   "id": "19bf9e41",
   "metadata": {},
   "outputs": [],
   "source": [
    "R2[:16] == R3[:16]"
   ]
  },
  {
   "cell_type": "code",
   "execution_count": null,
   "id": "140dc23a",
   "metadata": {},
   "outputs": [],
   "source": [
    "R3[:25] ==  R4[:25]"
   ]
  },
  {
   "cell_type": "code",
   "execution_count": null,
   "id": "b8fa4f9e",
   "metadata": {},
   "outputs": [],
   "source": [
    "type(circuit)"
   ]
  },
  {
   "cell_type": "code",
   "execution_count": null,
   "id": "71a20538",
   "metadata": {},
   "outputs": [],
   "source": [
    "print(circuit.to_tableau(ignore_reset=True, ignore_measurement=True))"
   ]
  },
  {
   "cell_type": "code",
   "execution_count": null,
   "id": "51f4ab08",
   "metadata": {},
   "outputs": [],
   "source": [
    "circuit = 0\n",
    "circuit = stim.Circuit.from_file(\"../output/test_circ.txt\")\n",
    "print(circuit)\n",
    "circuit.diagram(\"timeline-svg-html\")"
   ]
  },
  {
   "cell_type": "code",
   "execution_count": null,
   "id": "34f051a1",
   "metadata": {},
   "outputs": [],
   "source": [
    "\n",
    "h_qubits = set()\n",
    "mr_qubits = set()\n",
    "m_qubits = set()\n",
    "for inst in circuit:\n",
    "    name = inst.name\n",
    "\n",
    "    if name == \"H\":\n",
    "        print(\"Hadamard on\", [t.value for t in inst.targets_copy()])\n",
    "        h_qubits.update(t.value for t in inst.targets_copy())\n",
    "\n",
    "    elif name == \"MR\":\n",
    "        print(\"Measurement-Reset on\", [t.value for t in inst.targets_copy()])\n",
    "        mr_qubits.update(t.value for t in inst.targets_copy())\n",
    "\n",
    "    elif name.startswith(\"M\"):  # includes M, MX, MY, MR (if you want MR separate, check first!)\n",
    "        print(\"Measurement:\", name, \"on\", [t.value for t in inst.targets_copy()])\n",
    "        m_qubits.update(t.value for t in inst.targets_copy())\n",
    "\n",
    "# Intersection\n",
    "common = h_qubits & mr_qubits\n",
    "# Difference\n",
    "h_only = h_qubits - mr_qubits\n",
    "mr_only = mr_qubits - h_qubits\n",
    "print(\"------------------------\")\n",
    "print(\"Qubits with H:\", h_qubits)\n",
    "print(\"Qubits with MR:\", mr_qubits)\n",
    "print(\"Intersection (H ∩ MR):\", common)\n",
    "print(\"MR only:\", mr_only)"
   ]
  },
  {
   "cell_type": "code",
   "execution_count": null,
   "id": "15642aa0",
   "metadata": {},
   "outputs": [],
   "source": [
    "import stim\n",
    "\n",
    "c = stim.Circuit(\"\"\"\n",
    "H 0\n",
    "REPEAT 3 {\n",
    "    MR 0\n",
    "    M 0\n",
    "}\n",
    "\"\"\")\n",
    "\n",
    "for inst in c:\n",
    "    if isinstance(inst, stim.CircuitInstruction):\n",
    "        print(\"Instruction:\", inst.name, [t.value for t in inst.targets_copy()])\n",
    "    elif isinstance(inst, stim.CircuitRepeatBlock):\n",
    "        print(f\"Repeat block ×{inst.repeat_count}\")\n",
    "        # get inner circuit\n",
    "        inner = inst.body_copy()\n",
    "        for sub in inner:\n",
    "            print(\"  Sub-instruction:\", sub.name, [t.value for t in sub.targets_copy()])\n"
   ]
  },
  {
   "cell_type": "code",
   "execution_count": null,
   "id": "99adbcf2",
   "metadata": {},
   "outputs": [],
   "source": [
    "surface_code_circuit = stim.Circuit.generated(\n",
    "    \"surface_code:rotated_memory_z\",\n",
    "    rounds=9,\n",
    "    distance=3,\n",
    "    after_clifford_depolarization=0.001,\n",
    "    after_reset_flip_probability=0.001,\n",
    "    before_measure_flip_probability=0.001,\n",
    "    before_round_data_depolarization=0.001)"
   ]
  },
  {
   "cell_type": "code",
   "execution_count": null,
   "id": "639b4635",
   "metadata": {},
   "outputs": [],
   "source": [
    "surface_code_circuit.without_noise().diagram(\"timeslice-svg\")"
   ]
  },
  {
   "cell_type": "code",
   "execution_count": null,
   "id": "206fe4fa",
   "metadata": {},
   "outputs": [],
   "source": [
    "test= [[{'qubit': 2, 'value': False, 'type': 'ancx', 'coords': [2.0, 0.0]}, {'qubit': 9, 'value': False, 'type': 'ancz', 'coords': [2.0, 2.0]}, {'qubit': 11, 'value': False, 'type': 'ancx', 'coords': [4.0, 2.0]}, {'qubit': 13, 'value': False, 'type': 'ancz', 'coords': [6.0, 2.0]}, {'qubit': 14, 'value': False, 'type': 'ancz', 'coords': [0.0, 4.0]}, {'qubit': 16, 'value': False, 'type': 'ancx', 'coords': [2.0, 4.0]}, {'qubit': 18, 'value': False, 'type': 'ancz', 'coords': [4.0, 4.0]}, {'qubit': 25, 'value': False, 'type': 'ancx', 'coords': [4.0, 6.0]}, {'qubit': 2, 'value': False, 'type': 'ancx', 'coords': [2.0, 0.0]}, {'qubit': 9, 'value': False, 'type': 'ancz', 'coords': [2.0, 2.0]}, {'qubit': 11, 'value': False, 'type': 'ancx', 'coords': [4.0, 2.0]}, {'qubit': 13, 'value': False, 'type': 'ancz', 'coords': [6.0, 2.0]}, {'qubit': 14, 'value': False, 'type': 'ancz', 'coords': [0.0, 4.0]}, {'qubit': 16, 'value': False, 'type': 'ancx', 'coords': [2.0, 4.0]}, {'qubit': 18, 'value': False, 'type': 'ancz', 'coords': [4.0, 4.0]}, {'qubit': 25, 'value': False, 'type': 'ancx', 'coords': [4.0, 6.0]}, {'qubit': 2, 'value': False, 'type': 'ancx', 'coords': [2.0, 0.0]}, {'qubit': 9, 'value': False, 'type': 'ancz', 'coords': [2.0, 2.0]}, {'qubit': 11, 'value': False, 'type': 'ancx', 'coords': [4.0, 2.0]}, {'qubit': 13, 'value': False, 'type': 'ancz', 'coords': [6.0, 2.0]}, {'qubit': 14, 'value': False, 'type': 'ancz', 'coords': [0.0, 4.0]}, {'qubit': 16, 'value': False, 'type': 'ancx', 'coords': [2.0, 4.0]}, {'qubit': 18, 'value': False, 'type': 'ancz', 'coords': [4.0, 4.0]}, {'qubit': 25, 'value': False, 'type': 'ancx', 'coords': [4.0, 6.0]}, {'qubit': 1, 'value': True, 'type': 'data', 'coords': [1.0, 1.0]}, {'qubit': 3, 'value': False, 'type': 'data', 'coords': [3.0, 1.0]}, {'qubit': 5, 'value': True, 'type': 'data', 'coords': [5.0, 1.0]}, {'qubit': 8, 'value': False, 'type': 'data', 'coords': [1.0, 3.0]}, {'qubit': 10, 'value': True, 'type': 'data', 'coords': [3.0, 3.0]}, {'qubit': 12, 'value': True, 'type': 'data', 'coords': [5.0, 3.0]}, {'qubit': 15, 'value': False, 'type': 'data', 'coords': [1.0, 5.0]}, {'qubit': 17, 'value': False, 'type': 'data', 'coords': [3.0, 5.0]}, {'qubit': 19, 'value': False, 'type': 'data', 'coords': [5.0, 5.0]}, {'qubit': 2, 'value': True, 'type': 'ancx', 'coords': [2.0, 0.0]}, {'qubit': 9, 'value': False, 'type': 'ancz', 'coords': [2.0, 2.0]}, {'qubit': 11, 'value': True, 'type': 'ancx', 'coords': [4.0, 2.0]}, {'qubit': 13, 'value': False, 'type': 'ancz', 'coords': [6.0, 2.0]}, {'qubit': 14, 'value': False, 'type': 'ancz', 'coords': [0.0, 4.0]}, {'qubit': 16, 'value': True, 'type': 'ancx', 'coords': [2.0, 4.0]}, {'qubit': 18, 'value': False, 'type': 'ancz', 'coords': [4.0, 4.0]}, {'qubit': 25, 'value': True, 'type': 'ancx', 'coords': [4.0, 6.0]}, {'qubit': 2, 'value': True, 'type': 'ancx', 'coords': [2.0, 0.0]}, {'qubit': 9, 'value': False, 'type': 'ancz', 'coords': [2.0, 2.0]}, {'qubit': 11, 'value': True, 'type': 'ancx', 'coords': [4.0, 2.0]}, {'qubit': 13, 'value': False, 'type': 'ancz', 'coords': [6.0, 2.0]}, {'qubit': 14, 'value': False, 'type': 'ancz', 'coords': [0.0, 4.0]}, {'qubit': 16, 'value': True, 'type': 'ancx', 'coords': [2.0, 4.0]}, {'qubit': 18, 'value': False, 'type': 'ancz', 'coords': [4.0, 4.0]}, {'qubit': 25, 'value': True, 'type': 'ancx', 'coords': [4.0, 6.0]}, {'qubit': 2, 'value': True, 'type': 'ancx', 'coords': [2.0, 0.0]}, {'qubit': 9, 'value': False, 'type': 'ancz', 'coords': [2.0, 2.0]}, {'qubit': 11, 'value': True, 'type': 'ancx', 'coords': [4.0, 2.0]}, {'qubit': 13, 'value': False, 'type': 'ancz', 'coords': [6.0, 2.0]}, {'qubit': 14, 'value': False, 'type': 'ancz', 'coords': [0.0, 4.0]}, {'qubit': 16, 'value': True, 'type': 'ancx', 'coords': [2.0, 4.0]}, {'qubit': 18, 'value': False, 'type': 'ancz', 'coords': [4.0, 4.0]}, {'qubit': 25, 'value': True, 'type': 'ancx', 'coords': [4.0, 6.0]}, {'qubit': 1, 'value': False, 'type': 'data', 'coords': [1.0, 1.0]}, {'qubit': 3, 'value': True, 'type': 'data', 'coords': [3.0, 1.0]}, {'qubit': 5, 'value': True, 'type': 'data', 'coords': [5.0, 1.0]}, {'qubit': 8, 'value': True, 'type': 'data', 'coords': [1.0, 3.0]}, {'qubit': 10, 'value': False, 'type': 'data', 'coords': [3.0, 3.0]}, {'qubit': 12, 'value': True, 'type': 'data', 'coords': [5.0, 3.0]}, {'qubit': 15, 'value': True, 'type': 'data', 'coords': [1.0, 5.0]}, {'qubit': 17, 'value': False, 'type': 'data', 'coords': [3.0, 5.0]}, {'qubit': 19, 'value': True, 'type': 'data', 'coords': [5.0, 5.0]}, {'qubit': 2, 'value': True, 'type': 'ancx', 'coords': [2.0, 0.0]}, {'qubit': 9, 'value': False, 'type': 'ancz', 'coords': [2.0, 2.0]}, {'qubit': 11, 'value': False, 'type': 'ancx', 'coords': [4.0, 2.0]}, {'qubit': 13, 'value': False, 'type': 'ancz', 'coords': [6.0, 2.0]}, {'qubit': 14, 'value': False, 'type': 'ancz', 'coords': [0.0, 4.0]}, {'qubit': 16, 'value': False, 'type': 'ancx', 'coords': [2.0, 4.0]}, {'qubit': 18, 'value': False, 'type': 'ancz', 'coords': [4.0, 4.0]}, {'qubit': 25, 'value': True, 'type': 'ancx', 'coords': [4.0, 6.0]}, {'qubit': 2, 'value': True, 'type': 'ancx', 'coords': [2.0, 0.0]}, {'qubit': 9, 'value': False, 'type': 'ancz', 'coords': [2.0, 2.0]}, {'qubit': 11, 'value': False, 'type': 'ancx', 'coords': [4.0, 2.0]}, {'qubit': 13, 'value': False, 'type': 'ancz', 'coords': [6.0, 2.0]}, {'qubit': 14, 'value': False, 'type': 'ancz', 'coords': [0.0, 4.0]}, {'qubit': 16, 'value': False, 'type': 'ancx', 'coords': [2.0, 4.0]}, {'qubit': 18, 'value': False, 'type': 'ancz', 'coords': [4.0, 4.0]}, {'qubit': 25, 'value': True, 'type': 'ancx', 'coords': [4.0, 6.0]}, {'qubit': 2, 'value': True, 'type': 'ancx', 'coords': [2.0, 0.0]}, {'qubit': 9, 'value': False, 'type': 'ancz', 'coords': [2.0, 2.0]}, {'qubit': 11, 'value': False, 'type': 'ancx', 'coords': [4.0, 2.0]}, {'qubit': 13, 'value': False, 'type': 'ancz', 'coords': [6.0, 2.0]}, {'qubit': 14, 'value': False, 'type': 'ancz', 'coords': [0.0, 4.0]}, {'qubit': 16, 'value': False, 'type': 'ancx', 'coords': [2.0, 4.0]}, {'qubit': 18, 'value': False, 'type': 'ancz', 'coords': [4.0, 4.0]}, {'qubit': 25, 'value': True, 'type': 'ancx', 'coords': [4.0, 6.0]}, {'qubit': 1, 'value': False, 'type': 'data', 'coords': [1.0, 1.0]}, {'qubit': 3, 'value': True, 'type': 'data', 'coords': [3.0, 1.0]}, {'qubit': 5, 'value': True, 'type': 'data', 'coords': [5.0, 1.0]}, {'qubit': 8, 'value': True, 'type': 'data', 'coords': [1.0, 3.0]}, {'qubit': 10, 'value': False, 'type': 'data', 'coords': [3.0, 3.0]}, {'qubit': 12, 'value': True, 'type': 'data', 'coords': [5.0, 3.0]}, {'qubit': 15, 'value': True, 'type': 'data', 'coords': [1.0, 5.0]}, {'qubit': 17, 'value': False, 'type': 'data', 'coords': [3.0, 5.0]}, {'qubit': 19, 'value': True, 'type': 'data', 'coords': [5.0, 5.0]}], [{'qubit': 2, 'value': False, 'type': 'ancx', 'coords': [2.0, 0.0]}, {'qubit': 9, 'value': False, 'type': 'ancz', 'coords': [2.0, 2.0]}, {'qubit': 11, 'value': False, 'type': 'ancx', 'coords': [4.0, 2.0]}, {'qubit': 13, 'value': False, 'type': 'ancz', 'coords': [6.0, 2.0]}, {'qubit': 14, 'value': False, 'type': 'ancz', 'coords': [0.0, 4.0]}, {'qubit': 16, 'value': False, 'type': 'ancx', 'coords': [2.0, 4.0]}, {'qubit': 18, 'value': False, 'type': 'ancz', 'coords': [4.0, 4.0]}, {'qubit': 25, 'value': False, 'type': 'ancx', 'coords': [4.0, 6.0]}, {'qubit': 2, 'value': False, 'type': 'ancx', 'coords': [2.0, 0.0]}, {'qubit': 9, 'value': False, 'type': 'ancz', 'coords': [2.0, 2.0]}, {'qubit': 11, 'value': False, 'type': 'ancx', 'coords': [4.0, 2.0]}, {'qubit': 13, 'value': False, 'type': 'ancz', 'coords': [6.0, 2.0]}, {'qubit': 14, 'value': False, 'type': 'ancz', 'coords': [0.0, 4.0]}, {'qubit': 16, 'value': False, 'type': 'ancx', 'coords': [2.0, 4.0]}, {'qubit': 18, 'value': False, 'type': 'ancz', 'coords': [4.0, 4.0]}, {'qubit': 25, 'value': False, 'type': 'ancx', 'coords': [4.0, 6.0]}, {'qubit': 2, 'value': False, 'type': 'ancx', 'coords': [2.0, 0.0]}, {'qubit': 9, 'value': False, 'type': 'ancz', 'coords': [2.0, 2.0]}, {'qubit': 11, 'value': False, 'type': 'ancx', 'coords': [4.0, 2.0]}, {'qubit': 13, 'value': False, 'type': 'ancz', 'coords': [6.0, 2.0]}, {'qubit': 14, 'value': False, 'type': 'ancz', 'coords': [0.0, 4.0]}, {'qubit': 16, 'value': False, 'type': 'ancx', 'coords': [2.0, 4.0]}, {'qubit': 18, 'value': False, 'type': 'ancz', 'coords': [4.0, 4.0]}, {'qubit': 25, 'value': False, 'type': 'ancx', 'coords': [4.0, 6.0]}, {'qubit': 1, 'value': True, 'type': 'data', 'coords': [1.0, 1.0]}, {'qubit': 3, 'value': False, 'type': 'data', 'coords': [3.0, 1.0]}, {'qubit': 5, 'value': True, 'type': 'data', 'coords': [5.0, 1.0]}, {'qubit': 8, 'value': False, 'type': 'data', 'coords': [1.0, 3.0]}, {'qubit': 10, 'value': True, 'type': 'data', 'coords': [3.0, 3.0]}, {'qubit': 12, 'value': True, 'type': 'data', 'coords': [5.0, 3.0]}, {'qubit': 15, 'value': False, 'type': 'data', 'coords': [1.0, 5.0]}, {'qubit': 17, 'value': False, 'type': 'data', 'coords': [3.0, 5.0]}, {'qubit': 19, 'value': False, 'type': 'data', 'coords': [5.0, 5.0]}, {'qubit': 2, 'value': True, 'type': 'ancx', 'coords': [2.0, 0.0]}, {'qubit': 9, 'value': False, 'type': 'ancz', 'coords': [2.0, 2.0]}, {'qubit': 11, 'value': True, 'type': 'ancx', 'coords': [4.0, 2.0]}, {'qubit': 13, 'value': False, 'type': 'ancz', 'coords': [6.0, 2.0]}, {'qubit': 14, 'value': False, 'type': 'ancz', 'coords': [0.0, 4.0]}, {'qubit': 16, 'value': True, 'type': 'ancx', 'coords': [2.0, 4.0]}, {'qubit': 18, 'value': False, 'type': 'ancz', 'coords': [4.0, 4.0]}, {'qubit': 25, 'value': True, 'type': 'ancx', 'coords': [4.0, 6.0]}, {'qubit': 2, 'value': True, 'type': 'ancx', 'coords': [2.0, 0.0]}, {'qubit': 9, 'value': False, 'type': 'ancz', 'coords': [2.0, 2.0]}, {'qubit': 11, 'value': True, 'type': 'ancx', 'coords': [4.0, 2.0]}, {'qubit': 13, 'value': False, 'type': 'ancz', 'coords': [6.0, 2.0]}, {'qubit': 14, 'value': False, 'type': 'ancz', 'coords': [0.0, 4.0]}, {'qubit': 16, 'value': True, 'type': 'ancx', 'coords': [2.0, 4.0]}, {'qubit': 18, 'value': False, 'type': 'ancz', 'coords': [4.0, 4.0]}, {'qubit': 25, 'value': True, 'type': 'ancx', 'coords': [4.0, 6.0]}, {'qubit': 2, 'value': True, 'type': 'ancx', 'coords': [2.0, 0.0]}, {'qubit': 9, 'value': False, 'type': 'ancz', 'coords': [2.0, 2.0]}, {'qubit': 11, 'value': True, 'type': 'ancx', 'coords': [4.0, 2.0]}, {'qubit': 13, 'value': False, 'type': 'ancz', 'coords': [6.0, 2.0]}, {'qubit': 14, 'value': False, 'type': 'ancz', 'coords': [0.0, 4.0]}, {'qubit': 16, 'value': True, 'type': 'ancx', 'coords': [2.0, 4.0]}, {'qubit': 18, 'value': False, 'type': 'ancz', 'coords': [4.0, 4.0]}, {'qubit': 25, 'value': True, 'type': 'ancx', 'coords': [4.0, 6.0]}, {'qubit': 1, 'value': False, 'type': 'data', 'coords': [1.0, 1.0]}, {'qubit': 3, 'value': True, 'type': 'data', 'coords': [3.0, 1.0]}, {'qubit': 5, 'value': True, 'type': 'data', 'coords': [5.0, 1.0]}, {'qubit': 8, 'value': True, 'type': 'data', 'coords': [1.0, 3.0]}, {'qubit': 10, 'value': False, 'type': 'data', 'coords': [3.0, 3.0]}, {'qubit': 12, 'value': True, 'type': 'data', 'coords': [5.0, 3.0]}, {'qubit': 15, 'value': True, 'type': 'data', 'coords': [1.0, 5.0]}, {'qubit': 17, 'value': False, 'type': 'data', 'coords': [3.0, 5.0]}, {'qubit': 19, 'value': True, 'type': 'data', 'coords': [5.0, 5.0]}, {'qubit': 2, 'value': True, 'type': 'ancx', 'coords': [2.0, 0.0]}, {'qubit': 9, 'value': False, 'type': 'ancz', 'coords': [2.0, 2.0]}, {'qubit': 11, 'value': False, 'type': 'ancx', 'coords': [4.0, 2.0]}, {'qubit': 13, 'value': False, 'type': 'ancz', 'coords': [6.0, 2.0]}, {'qubit': 14, 'value': False, 'type': 'ancz', 'coords': [0.0, 4.0]}, {'qubit': 16, 'value': False, 'type': 'ancx', 'coords': [2.0, 4.0]}, {'qubit': 18, 'value': False, 'type': 'ancz', 'coords': [4.0, 4.0]}, {'qubit': 25, 'value': True, 'type': 'ancx', 'coords': [4.0, 6.0]}, {'qubit': 2, 'value': True, 'type': 'ancx', 'coords': [2.0, 0.0]}, {'qubit': 9, 'value': False, 'type': 'ancz', 'coords': [2.0, 2.0]}, {'qubit': 11, 'value': False, 'type': 'ancx', 'coords': [4.0, 2.0]}, {'qubit': 13, 'value': False, 'type': 'ancz', 'coords': [6.0, 2.0]}, {'qubit': 14, 'value': False, 'type': 'ancz', 'coords': [0.0, 4.0]}, {'qubit': 16, 'value': False, 'type': 'ancx', 'coords': [2.0, 4.0]}, {'qubit': 18, 'value': False, 'type': 'ancz', 'coords': [4.0, 4.0]}, {'qubit': 25, 'value': True, 'type': 'ancx', 'coords': [4.0, 6.0]}, {'qubit': 2, 'value': True, 'type': 'ancx', 'coords': [2.0, 0.0]}, {'qubit': 9, 'value': False, 'type': 'ancz', 'coords': [2.0, 2.0]}, {'qubit': 11, 'value': False, 'type': 'ancx', 'coords': [4.0, 2.0]}, {'qubit': 13, 'value': False, 'type': 'ancz', 'coords': [6.0, 2.0]}, {'qubit': 14, 'value': False, 'type': 'ancz', 'coords': [0.0, 4.0]}, {'qubit': 16, 'value': False, 'type': 'ancx', 'coords': [2.0, 4.0]}, {'qubit': 18, 'value': False, 'type': 'ancz', 'coords': [4.0, 4.0]}, {'qubit': 25, 'value': True, 'type': 'ancx', 'coords': [4.0, 6.0]}, {'qubit': 1, 'value': False, 'type': 'data', 'coords': [1.0, 1.0]}, {'qubit': 3, 'value': True, 'type': 'data', 'coords': [3.0, 1.0]}, {'qubit': 5, 'value': True, 'type': 'data', 'coords': [5.0, 1.0]}, {'qubit': 8, 'value': True, 'type': 'data', 'coords': [1.0, 3.0]}, {'qubit': 10, 'value': False, 'type': 'data', 'coords': [3.0, 3.0]}, {'qubit': 12, 'value': True, 'type': 'data', 'coords': [5.0, 3.0]}, {'qubit': 15, 'value': True, 'type': 'data', 'coords': [1.0, 5.0]}, {'qubit': 17, 'value': False, 'type': 'data', 'coords': [3.0, 5.0]}, {'qubit': 19, 'value': True, 'type': 'data', 'coords': [5.0, 5.0]}], [{'qubit': 2, 'value': False, 'type': 'ancx', 'coords': [2.0, 0.0]}, {'qubit': 9, 'value': False, 'type': 'ancz', 'coords': [2.0, 2.0]}, {'qubit': 11, 'value': False, 'type': 'ancx', 'coords': [4.0, 2.0]}, {'qubit': 13, 'value': False, 'type': 'ancz', 'coords': [6.0, 2.0]}, {'qubit': 14, 'value': False, 'type': 'ancz', 'coords': [0.0, 4.0]}, {'qubit': 16, 'value': False, 'type': 'ancx', 'coords': [2.0, 4.0]}, {'qubit': 18, 'value': False, 'type': 'ancz', 'coords': [4.0, 4.0]}, {'qubit': 25, 'value': False, 'type': 'ancx', 'coords': [4.0, 6.0]}, {'qubit': 2, 'value': False, 'type': 'ancx', 'coords': [2.0, 0.0]}, {'qubit': 9, 'value': False, 'type': 'ancz', 'coords': [2.0, 2.0]}, {'qubit': 11, 'value': False, 'type': 'ancx', 'coords': [4.0, 2.0]}, {'qubit': 13, 'value': False, 'type': 'ancz', 'coords': [6.0, 2.0]}, {'qubit': 14, 'value': False, 'type': 'ancz', 'coords': [0.0, 4.0]}, {'qubit': 16, 'value': False, 'type': 'ancx', 'coords': [2.0, 4.0]}, {'qubit': 18, 'value': False, 'type': 'ancz', 'coords': [4.0, 4.0]}, {'qubit': 25, 'value': False, 'type': 'ancx', 'coords': [4.0, 6.0]}, {'qubit': 2, 'value': False, 'type': 'ancx', 'coords': [2.0, 0.0]}, {'qubit': 9, 'value': False, 'type': 'ancz', 'coords': [2.0, 2.0]}, {'qubit': 11, 'value': False, 'type': 'ancx', 'coords': [4.0, 2.0]}, {'qubit': 13, 'value': False, 'type': 'ancz', 'coords': [6.0, 2.0]}, {'qubit': 14, 'value': False, 'type': 'ancz', 'coords': [0.0, 4.0]}, {'qubit': 16, 'value': False, 'type': 'ancx', 'coords': [2.0, 4.0]}, {'qubit': 18, 'value': False, 'type': 'ancz', 'coords': [4.0, 4.0]}, {'qubit': 25, 'value': False, 'type': 'ancx', 'coords': [4.0, 6.0]}, {'qubit': 1, 'value': True, 'type': 'data', 'coords': [1.0, 1.0]}, {'qubit': 3, 'value': False, 'type': 'data', 'coords': [3.0, 1.0]}, {'qubit': 5, 'value': True, 'type': 'data', 'coords': [5.0, 1.0]}, {'qubit': 8, 'value': False, 'type': 'data', 'coords': [1.0, 3.0]}, {'qubit': 10, 'value': True, 'type': 'data', 'coords': [3.0, 3.0]}, {'qubit': 12, 'value': True, 'type': 'data', 'coords': [5.0, 3.0]}, {'qubit': 15, 'value': False, 'type': 'data', 'coords': [1.0, 5.0]}, {'qubit': 17, 'value': False, 'type': 'data', 'coords': [3.0, 5.0]}, {'qubit': 19, 'value': False, 'type': 'data', 'coords': [5.0, 5.0]}, {'qubit': 2, 'value': True, 'type': 'ancx', 'coords': [2.0, 0.0]}, {'qubit': 9, 'value': False, 'type': 'ancz', 'coords': [2.0, 2.0]}, {'qubit': 11, 'value': True, 'type': 'ancx', 'coords': [4.0, 2.0]}, {'qubit': 13, 'value': False, 'type': 'ancz', 'coords': [6.0, 2.0]}, {'qubit': 14, 'value': False, 'type': 'ancz', 'coords': [0.0, 4.0]}, {'qubit': 16, 'value': True, 'type': 'ancx', 'coords': [2.0, 4.0]}, {'qubit': 18, 'value': False, 'type': 'ancz', 'coords': [4.0, 4.0]}, {'qubit': 25, 'value': True, 'type': 'ancx', 'coords': [4.0, 6.0]}, {'qubit': 2, 'value': True, 'type': 'ancx', 'coords': [2.0, 0.0]}, {'qubit': 9, 'value': False, 'type': 'ancz', 'coords': [2.0, 2.0]}, {'qubit': 11, 'value': True, 'type': 'ancx', 'coords': [4.0, 2.0]}, {'qubit': 13, 'value': False, 'type': 'ancz', 'coords': [6.0, 2.0]}, {'qubit': 14, 'value': False, 'type': 'ancz', 'coords': [0.0, 4.0]}, {'qubit': 16, 'value': True, 'type': 'ancx', 'coords': [2.0, 4.0]}, {'qubit': 18, 'value': False, 'type': 'ancz', 'coords': [4.0, 4.0]}, {'qubit': 25, 'value': True, 'type': 'ancx', 'coords': [4.0, 6.0]}, {'qubit': 2, 'value': True, 'type': 'ancx', 'coords': [2.0, 0.0]}, {'qubit': 9, 'value': False, 'type': 'ancz', 'coords': [2.0, 2.0]}, {'qubit': 11, 'value': True, 'type': 'ancx', 'coords': [4.0, 2.0]}, {'qubit': 13, 'value': False, 'type': 'ancz', 'coords': [6.0, 2.0]}, {'qubit': 14, 'value': False, 'type': 'ancz', 'coords': [0.0, 4.0]}, {'qubit': 16, 'value': True, 'type': 'ancx', 'coords': [2.0, 4.0]}, {'qubit': 18, 'value': False, 'type': 'ancz', 'coords': [4.0, 4.0]}, {'qubit': 25, 'value': True, 'type': 'ancx', 'coords': [4.0, 6.0]}, {'qubit': 1, 'value': False, 'type': 'data', 'coords': [1.0, 1.0]}, {'qubit': 3, 'value': True, 'type': 'data', 'coords': [3.0, 1.0]}, {'qubit': 5, 'value': True, 'type': 'data', 'coords': [5.0, 1.0]}, {'qubit': 8, 'value': True, 'type': 'data', 'coords': [1.0, 3.0]}, {'qubit': 10, 'value': False, 'type': 'data', 'coords': [3.0, 3.0]}, {'qubit': 12, 'value': True, 'type': 'data', 'coords': [5.0, 3.0]}, {'qubit': 15, 'value': True, 'type': 'data', 'coords': [1.0, 5.0]}, {'qubit': 17, 'value': False, 'type': 'data', 'coords': [3.0, 5.0]}, {'qubit': 19, 'value': True, 'type': 'data', 'coords': [5.0, 5.0]}, {'qubit': 2, 'value': True, 'type': 'ancx', 'coords': [2.0, 0.0]}, {'qubit': 9, 'value': False, 'type': 'ancz', 'coords': [2.0, 2.0]}, {'qubit': 11, 'value': False, 'type': 'ancx', 'coords': [4.0, 2.0]}, {'qubit': 13, 'value': False, 'type': 'ancz', 'coords': [6.0, 2.0]}, {'qubit': 14, 'value': False, 'type': 'ancz', 'coords': [0.0, 4.0]}, {'qubit': 16, 'value': False, 'type': 'ancx', 'coords': [2.0, 4.0]}, {'qubit': 18, 'value': False, 'type': 'ancz', 'coords': [4.0, 4.0]}, {'qubit': 25, 'value': True, 'type': 'ancx', 'coords': [4.0, 6.0]}, {'qubit': 2, 'value': True, 'type': 'ancx', 'coords': [2.0, 0.0]}, {'qubit': 9, 'value': False, 'type': 'ancz', 'coords': [2.0, 2.0]}, {'qubit': 11, 'value': False, 'type': 'ancx', 'coords': [4.0, 2.0]}, {'qubit': 13, 'value': False, 'type': 'ancz', 'coords': [6.0, 2.0]}, {'qubit': 14, 'value': False, 'type': 'ancz', 'coords': [0.0, 4.0]}, {'qubit': 16, 'value': False, 'type': 'ancx', 'coords': [2.0, 4.0]}, {'qubit': 18, 'value': False, 'type': 'ancz', 'coords': [4.0, 4.0]}, {'qubit': 25, 'value': True, 'type': 'ancx', 'coords': [4.0, 6.0]}, {'qubit': 2, 'value': True, 'type': 'ancx', 'coords': [2.0, 0.0]}, {'qubit': 9, 'value': False, 'type': 'ancz', 'coords': [2.0, 2.0]}, {'qubit': 11, 'value': False, 'type': 'ancx', 'coords': [4.0, 2.0]}, {'qubit': 13, 'value': False, 'type': 'ancz', 'coords': [6.0, 2.0]}, {'qubit': 14, 'value': False, 'type': 'ancz', 'coords': [0.0, 4.0]}, {'qubit': 16, 'value': False, 'type': 'ancx', 'coords': [2.0, 4.0]}, {'qubit': 18, 'value': False, 'type': 'ancz', 'coords': [4.0, 4.0]}, {'qubit': 25, 'value': True, 'type': 'ancx', 'coords': [4.0, 6.0]}, {'qubit': 1, 'value': False, 'type': 'data', 'coords': [1.0, 1.0]}, {'qubit': 3, 'value': True, 'type': 'data', 'coords': [3.0, 1.0]}, {'qubit': 5, 'value': True, 'type': 'data', 'coords': [5.0, 1.0]}, {'qubit': 8, 'value': True, 'type': 'data', 'coords': [1.0, 3.0]}, {'qubit': 10, 'value': False, 'type': 'data', 'coords': [3.0, 3.0]}, {'qubit': 12, 'value': True, 'type': 'data', 'coords': [5.0, 3.0]}, {'qubit': 15, 'value': True, 'type': 'data', 'coords': [1.0, 5.0]}, {'qubit': 17, 'value': False, 'type': 'data', 'coords': [3.0, 5.0]}, {'qubit': 19, 'value': True, 'type': 'data', 'coords': [5.0, 5.0]}]]"
   ]
  },
  {
   "cell_type": "code",
   "execution_count": null,
   "id": "de344cc3",
   "metadata": {},
   "outputs": [],
   "source": [
    "len(test)"
   ]
  },
  {
   "cell_type": "code",
   "execution_count": null,
   "id": "8eed8b72",
   "metadata": {},
   "outputs": [],
   "source": [
    "len(test[0])"
   ]
  },
  {
   "cell_type": "code",
   "execution_count": null,
   "id": "441f8544",
   "metadata": {},
   "outputs": [],
   "source": [
    "test[0]"
   ]
  },
  {
   "cell_type": "code",
   "execution_count": null,
   "id": "bbf55a91",
   "metadata": {},
   "outputs": [],
   "source": [
    "test = [[{'qubit': 2, 'value': True, 'type': 'ancx', 'coords': [2.0, 0.0]}, {'qubit': 9, 'value': False, 'type': 'ancz', 'coords': [2.0, 2.0]}, {'qubit': 11, 'value': False, 'type': 'ancx', 'coords': [4.0, 2.0]}, {'qubit': 13, 'value': False, 'type': 'ancz', 'coords': [6.0, 2.0]}, {'qubit': 14, 'value': False, 'type': 'ancz', 'coords': [0.0, 4.0]}, {'qubit': 16, 'value': True, 'type': 'ancx', 'coords': [2.0, 4.0]}, {'qubit': 18, 'value': False, 'type': 'ancz', 'coords': [4.0, 4.0]}, {'qubit': 25, 'value': True, 'type': 'ancx', 'coords': [4.0, 6.0]}, {'qubit': 2, 'value': True, 'type': 'ancx', 'coords': [2.0, 0.0]}, {'qubit': 9, 'value': False, 'type': 'ancz', 'coords': [2.0, 2.0]}, {'qubit': 11, 'value': False, 'type': 'ancx', 'coords': [4.0, 2.0]}, {'qubit': 13, 'value': False, 'type': 'ancz', 'coords': [6.0, 2.0]}, {'qubit': 14, 'value': False, 'type': 'ancz', 'coords': [0.0, 4.0]}, {'qubit': 16, 'value': True, 'type': 'ancx', 'coords': [2.0, 4.0]}, {'qubit': 18, 'value': False, 'type': 'ancz', 'coords': [4.0, 4.0]}, {'qubit': 25, 'value': True, 'type': 'ancx', 'coords': [4.0, 6.0]}, {'qubit': 2, 'value': True, 'type': 'ancx', 'coords': [2.0, 0.0]}, {'qubit': 9, 'value': False, 'type': 'ancz', 'coords': [2.0, 2.0]}, {'qubit': 11, 'value': False, 'type': 'ancx', 'coords': [4.0, 2.0]}, {'qubit': 13, 'value': False, 'type': 'ancz', 'coords': [6.0, 2.0]}, {'qubit': 14, 'value': False, 'type': 'ancz', 'coords': [0.0, 4.0]}, {'qubit': 16, 'value': True, 'type': 'ancx', 'coords': [2.0, 4.0]}, {'qubit': 18, 'value': False, 'type': 'ancz', 'coords': [4.0, 4.0]}, {'qubit': 25, 'value': True, 'type': 'ancx', 'coords': [4.0, 6.0]}, {'qubit': 1, 'value': False, 'type': 'data', 'coords': [1.0, 1.0]}, {'qubit': 3, 'value': False, 'type': 'data', 'coords': [3.0, 1.0]}, {'qubit': 5, 'value': False, 'type': 'data', 'coords': [5.0, 1.0]}, {'qubit': 8, 'value': True, 'type': 'data', 'coords': [1.0, 3.0]}, {'qubit': 10, 'value': True, 'type': 'data', 'coords': [3.0, 3.0]}, {'qubit': 12, 'value': False, 'type': 'data', 'coords': [5.0, 3.0]}, {'qubit': 15, 'value': True, 'type': 'data', 'coords': [1.0, 5.0]}, {'qubit': 17, 'value': False, 'type': 'data', 'coords': [3.0, 5.0]}, {'qubit': 19, 'value': True, 'type': 'data', 'coords': [5.0, 5.0]}], [{'qubit': 2, 'value': False, 'type': 'ancx', 'coords': [2.0, 0.0]}, {'qubit': 9, 'value': False, 'type': 'ancz', 'coords': [2.0, 2.0]}, {'qubit': 11, 'value': False, 'type': 'ancx', 'coords': [4.0, 2.0]}, {'qubit': 13, 'value': False, 'type': 'ancz', 'coords': [6.0, 2.0]}, {'qubit': 14, 'value': False, 'type': 'ancz', 'coords': [0.0, 4.0]}, {'qubit': 16, 'value': True, 'type': 'ancx', 'coords': [2.0, 4.0]}, {'qubit': 18, 'value': False, 'type': 'ancz', 'coords': [4.0, 4.0]}, {'qubit': 25, 'value': False, 'type': 'ancx', 'coords': [4.0, 6.0]}, {'qubit': 2, 'value': False, 'type': 'ancx', 'coords': [2.0, 0.0]}, {'qubit': 9, 'value': False, 'type': 'ancz', 'coords': [2.0, 2.0]}, {'qubit': 11, 'value': False, 'type': 'ancx', 'coords': [4.0, 2.0]}, {'qubit': 13, 'value': False, 'type': 'ancz', 'coords': [6.0, 2.0]}, {'qubit': 14, 'value': False, 'type': 'ancz', 'coords': [0.0, 4.0]}, {'qubit': 16, 'value': True, 'type': 'ancx', 'coords': [2.0, 4.0]}, {'qubit': 18, 'value': False, 'type': 'ancz', 'coords': [4.0, 4.0]}, {'qubit': 25, 'value': False, 'type': 'ancx', 'coords': [4.0, 6.0]}, {'qubit': 2, 'value': False, 'type': 'ancx', 'coords': [2.0, 0.0]}, {'qubit': 9, 'value': False, 'type': 'ancz', 'coords': [2.0, 2.0]}, {'qubit': 11, 'value': False, 'type': 'ancx', 'coords': [4.0, 2.0]}, {'qubit': 13, 'value': False, 'type': 'ancz', 'coords': [6.0, 2.0]}, {'qubit': 14, 'value': False, 'type': 'ancz', 'coords': [0.0, 4.0]}, {'qubit': 16, 'value': True, 'type': 'ancx', 'coords': [2.0, 4.0]}, {'qubit': 18, 'value': False, 'type': 'ancz', 'coords': [4.0, 4.0]}, {'qubit': 25, 'value': False, 'type': 'ancx', 'coords': [4.0, 6.0]}, {'qubit': 1, 'value': False, 'type': 'data', 'coords': [1.0, 1.0]}, {'qubit': 3, 'value': True, 'type': 'data', 'coords': [3.0, 1.0]}, {'qubit': 5, 'value': True, 'type': 'data', 'coords': [5.0, 1.0]}, {'qubit': 8, 'value': True, 'type': 'data', 'coords': [1.0, 3.0]}, {'qubit': 10, 'value': False, 'type': 'data', 'coords': [3.0, 3.0]}, {'qubit': 12, 'value': True, 'type': 'data', 'coords': [5.0, 3.0]}, {'qubit': 15, 'value': True, 'type': 'data', 'coords': [1.0, 5.0]}, {'qubit': 17, 'value': True, 'type': 'data', 'coords': [3.0, 5.0]}, {'qubit': 19, 'value': False, 'type': 'data', 'coords': [5.0, 5.0]}], [{'qubit': 2, 'value': False, 'type': 'ancx', 'coords': [2.0, 0.0]}, {'qubit': 9, 'value': False, 'type': 'ancz', 'coords': [2.0, 2.0]}, {'qubit': 11, 'value': True, 'type': 'ancx', 'coords': [4.0, 2.0]}, {'qubit': 13, 'value': False, 'type': 'ancz', 'coords': [6.0, 2.0]}, {'qubit': 14, 'value': False, 'type': 'ancz', 'coords': [0.0, 4.0]}, {'qubit': 16, 'value': False, 'type': 'ancx', 'coords': [2.0, 4.0]}, {'qubit': 18, 'value': False, 'type': 'ancz', 'coords': [4.0, 4.0]}, {'qubit': 25, 'value': False, 'type': 'ancx', 'coords': [4.0, 6.0]}, {'qubit': 2, 'value': False, 'type': 'ancx', 'coords': [2.0, 0.0]}, {'qubit': 9, 'value': False, 'type': 'ancz', 'coords': [2.0, 2.0]}, {'qubit': 11, 'value': True, 'type': 'ancx', 'coords': [4.0, 2.0]}, {'qubit': 13, 'value': False, 'type': 'ancz', 'coords': [6.0, 2.0]}, {'qubit': 14, 'value': False, 'type': 'ancz', 'coords': [0.0, 4.0]}, {'qubit': 16, 'value': False, 'type': 'ancx', 'coords': [2.0, 4.0]}, {'qubit': 18, 'value': False, 'type': 'ancz', 'coords': [4.0, 4.0]}, {'qubit': 25, 'value': False, 'type': 'ancx', 'coords': [4.0, 6.0]}, {'qubit': 2, 'value': False, 'type': 'ancx', 'coords': [2.0, 0.0]}, {'qubit': 9, 'value': False, 'type': 'ancz', 'coords': [2.0, 2.0]}, {'qubit': 11, 'value': True, 'type': 'ancx', 'coords': [4.0, 2.0]}, {'qubit': 13, 'value': False, 'type': 'ancz', 'coords': [6.0, 2.0]}, {'qubit': 14, 'value': False, 'type': 'ancz', 'coords': [0.0, 4.0]}, {'qubit': 16, 'value': False, 'type': 'ancx', 'coords': [2.0, 4.0]}, {'qubit': 18, 'value': False, 'type': 'ancz', 'coords': [4.0, 4.0]}, {'qubit': 25, 'value': False, 'type': 'ancx', 'coords': [4.0, 6.0]}, {'qubit': 1, 'value': False, 'type': 'data', 'coords': [1.0, 1.0]}, {'qubit': 3, 'value': False, 'type': 'data', 'coords': [3.0, 1.0]}, {'qubit': 5, 'value': False, 'type': 'data', 'coords': [5.0, 1.0]}, {'qubit': 8, 'value': False, 'type': 'data', 'coords': [1.0, 3.0]}, {'qubit': 10, 'value': False, 'type': 'data', 'coords': [3.0, 3.0]}, {'qubit': 12, 'value': False, 'type': 'data', 'coords': [5.0, 3.0]}, {'qubit': 15, 'value': False, 'type': 'data', 'coords': [1.0, 5.0]}, {'qubit': 17, 'value': True, 'type': 'data', 'coords': [3.0, 5.0]}, {'qubit': 19, 'value': True, 'type': 'data', 'coords': [5.0, 5.0]}]]"
   ]
  },
  {
   "cell_type": "code",
   "execution_count": null,
   "id": "fb772fea",
   "metadata": {},
   "outputs": [],
   "source": [
    "len(test)"
   ]
  },
  {
   "cell_type": "code",
   "execution_count": null,
   "id": "39043d15",
   "metadata": {},
   "outputs": [],
   "source": [
    "len(test[0])"
   ]
  }
 ],
 "metadata": {
  "kernelspec": {
   "display_name": "Python 3",
   "language": "python",
   "name": "python3"
  },
  "language_info": {
   "codemirror_mode": {
    "name": "ipython",
    "version": 3
   },
   "file_extension": ".py",
   "mimetype": "text/x-python",
   "name": "python",
   "nbconvert_exporter": "python",
   "pygments_lexer": "ipython3",
   "version": "3.12.3"
  }
 },
 "nbformat": 4,
 "nbformat_minor": 5
}
